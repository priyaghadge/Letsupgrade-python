{
 "cells": [
  {
   "cell_type": "code",
   "execution_count": 4,
   "metadata": {},
   "outputs": [
    {
     "name": "stdout",
     "output_type": "stream",
     "text": [
      "The original tuple is : ([1, 2], [3, 4], [5, 6], [4, 5])\n",
      "The summation of tuple elements are : 30\n"
     ]
    }
   ],
   "source": [
    "test_tup = ([1, 2], [3, 4], [5, 6],[4,5])  \n",
    "  \n",
    "# printing original tuple \n",
    "print(\"The original tuple is : \" + str(test_tup))  \n",
    "  \n",
    "# Tuple elements inversions \n",
    "# Using map() + list() + sum() \n",
    "res = sum(list(map(sum, list(test_tup)))) \n",
    "  \n",
    "# printing result  \n",
    "print(\"The summation of tuple elements are : \" + str(res))  "
   ]
  },
  {
   "cell_type": "code",
   "execution_count": null,
   "metadata": {},
   "outputs": [],
   "source": []
  }
 ],
 "metadata": {
  "kernelspec": {
   "display_name": "Python 3",
   "language": "python",
   "name": "python3"
  },
  "language_info": {
   "codemirror_mode": {
    "name": "ipython",
    "version": 3
   },
   "file_extension": ".py",
   "mimetype": "text/x-python",
   "name": "python",
   "nbconvert_exporter": "python",
   "pygments_lexer": "ipython3",
   "version": "3.7.6"
  }
 },
 "nbformat": 4,
 "nbformat_minor": 4
}
